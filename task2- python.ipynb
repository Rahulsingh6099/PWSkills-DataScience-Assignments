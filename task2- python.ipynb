{
 "cells": [
  {
   "cell_type": "code",
   "execution_count": null,
   "id": "236bfd25",
   "metadata": {},
   "outputs": [],
   "source": [
    "Q1. You are writing code for a company. The requirement of the company is that you create a python\n",
    "function that will check whether the password entered by the user is correct or not. The function should\n",
    "take the password as input and return the string “Valid Password” if the entered password follows the\n",
    "below-given password guidelines else it should return “Invalid Password”.\n",
    "Note: 1. The Password should contain at least two uppercase letters and at least two lowercase letters.\n",
    "2. The Password should contain at least a number and three special characters.\n",
    "3. The length of the password should be 10 characters long.\n",
    "Q2. Solve the below-given questions using at least one of the following:\n",
    "1. Lambda functioJ\n",
    "2. Filter functioJ\n",
    "3. Zap functioJ\n",
    "4. List ComprehensioI\n",
    "B Check if the string starts with a particular letterY\n",
    "B Check if the string is numericY\n",
    "B Sort a list of tuples having fruit names and their quantity. [(\"mango\",99),(\"orange\",80), (\"grapes\", 1000)-\n",
    "B Find the squares of numbers from 1 to 10Y\n",
    "B Find the cube root of numbers from 1 to 10Y\n",
    "B Check if a given number is evenY\n",
    "B Filter odd numbers from the given list.\n",
    "[1,2,3,4,5,6,7,8,9,10-\n",
    "B Sort a list of integers into positive and negative integers lists.\n",
    "[1,2,3,4,5,6,-1,-2,-3,-4,-5,0]"
   ]
  },
  {
   "cell_type": "code",
   "execution_count": 1,
   "id": "c20dad3d",
   "metadata": {},
   "outputs": [
    {
     "name": "stdout",
     "output_type": "stream",
     "text": [
      "Q1:\n",
      "Invalid Password\n"
     ]
    }
   ],
   "source": [
    "# Q1\n",
    "def check_password(password):\n",
    "    # Check if the password follows the guidelines\n",
    "    if (\n",
    "        len(password) == 10\n",
    "        and sum(1 for char in password if char.isupper()) >= 2\n",
    "        and sum(1 for char in password if char.islower()) >= 2\n",
    "        and any(char.isdigit() for char in password)\n",
    "        and sum(1 for char in password if char in \"!@#$%^&*()_-+=<>?/\") >= 3\n",
    "    ):\n",
    "        return \"Valid Password\"\n",
    "    else:\n",
    "        return \"Invalid Password\"\n",
    "\n",
    "# Test the function with a password\n",
    "password_to_check = \"Abcd@12345\"\n",
    "result = check_password(password_to_check)\n",
    "print(\"Q1:\")\n",
    "print(result)\n"
   ]
  },
  {
   "cell_type": "code",
   "execution_count": 2,
   "id": "6aa4f373",
   "metadata": {},
   "outputs": [
    {
     "name": "stdout",
     "output_type": "stream",
     "text": [
      "\n",
      "Q2:\n",
      "Strings starting with 'O': ['Orange']\n",
      "Numeric strings: ['123', '4', '6']\n",
      "Sorted list of fruits: [('grapes', 1000), ('mango', 99), ('orange', 80)]\n",
      "Squares of numbers from 1 to 10: [1, 4, 9, 16, 25, 36, 49, 64, 81, 100]\n",
      "Cube roots of numbers from 1 to 10: [1.0, 1.2599210498948732, 1.4422495703074083, 1.5874010519681994, 1.7099759466766968, 1.8171205928321397, 1.912931182772389, 2.0, 2.080083823051904, 2.154434690031884]\n",
      "Even numbers from 1 to 10: [2, 4, 6, 8, 10]\n",
      "Odd numbers from 1 to 10: [1, 3, 5, 7, 9]\n",
      "Positive integers: [1, 2, 3, 4, 5, 6]\n",
      "Negative integers: [-1, -2, -3, -4, -5]\n"
     ]
    }
   ],
   "source": [
    "# Q2\n",
    "# Define a list of strings for testing\n",
    "string_list = [\"apple\", \"Banana\", \"123\", \"4\", \"Mango\", \"6\", \"Orange\", \"kiwi\"]\n",
    "\n",
    "# Check if the string starts with a particular letter (e.g., \"O\")\n",
    "starts_with_O = list(filter(lambda s: s.startswith(\"O\"), string_list))\n",
    "print(\"\\nQ2:\")\n",
    "print(f\"Strings starting with 'O': {starts_with_O}\")\n",
    "\n",
    "# Check if the string is numeric\n",
    "is_numeric = list(filter(lambda s: s.isnumeric(), string_list))\n",
    "print(f\"Numeric strings: {is_numeric}\")\n",
    "\n",
    "# Sort a list of tuples based on fruit names\n",
    "fruit_quantity = [(\"mango\", 99), (\"orange\", 80), (\"grapes\", 1000)]\n",
    "sorted_fruits = sorted(fruit_quantity, key=lambda x: x[0])\n",
    "print(f\"Sorted list of fruits: {sorted_fruits}\")\n",
    "\n",
    "# Find the squares of numbers from 1 to 10\n",
    "squares = list(map(lambda x: x**2, range(1, 11)))\n",
    "print(f\"Squares of numbers from 1 to 10: {squares}\")\n",
    "\n",
    "# Find the cube root of numbers from 1 to 10\n",
    "cube_roots = list(map(lambda x: x**(1/3), range(1, 11)))\n",
    "print(f\"Cube roots of numbers from 1 to 10: {cube_roots}\")\n",
    "\n",
    "# Check if a given number is even\n",
    "is_even = list(filter(lambda x: x % 2 == 0, range(1, 11)))\n",
    "print(f\"Even numbers from 1 to 10: {is_even}\")\n",
    "\n",
    "# Filter odd numbers from the given list\n",
    "odd_numbers = list(filter(lambda x: x % 2 != 0, range(1, 11)))\n",
    "print(f\"Odd numbers from 1 to 10: {odd_numbers}\")\n",
    "\n",
    "# Sort a list of integers into positive and negative integers lists\n",
    "integers = [1, 2, 3, 4, 5, 6, -1, -2, -3, -4, -5, 0]\n",
    "positive_integers = list(filter(lambda x: x > 0, integers))\n",
    "negative_integers = list(filter(lambda x: x < 0, integers))\n",
    "print(f\"Positive integers: {positive_integers}\")\n",
    "print(f\"Negative integers: {negative_integers}\")\n"
   ]
  },
  {
   "cell_type": "code",
   "execution_count": null,
   "id": "6440fe47",
   "metadata": {},
   "outputs": [],
   "source": []
  }
 ],
 "metadata": {
  "kernelspec": {
   "display_name": "Python 3 (ipykernel)",
   "language": "python",
   "name": "python3"
  },
  "language_info": {
   "codemirror_mode": {
    "name": "ipython",
    "version": 3
   },
   "file_extension": ".py",
   "mimetype": "text/x-python",
   "name": "python",
   "nbconvert_exporter": "python",
   "pygments_lexer": "ipython3",
   "version": "3.11.5"
  }
 },
 "nbformat": 4,
 "nbformat_minor": 5
}
