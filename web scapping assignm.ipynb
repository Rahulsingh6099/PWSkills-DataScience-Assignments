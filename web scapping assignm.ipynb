{
 "cells": [
  {
   "cell_type": "raw",
   "id": "6c4866e0",
   "metadata": {},
   "source": [
    "Q1: What is Web Scraping, and Why is it Used?\n",
    "Web Scraping: Web scraping is the process of extracting data from websites. It involves fetching and parsing the HTML content of web pages to extract useful information.\n",
    "\n",
    "Why it is Used:\n",
    "\n",
    "Data Extraction: Web scraping is used to extract specific data from websites, including text, images, prices, and more.\n",
    "Automation: It automates the process of gathering information, saving time compared to manual data collection.\n",
    "Competitor Analysis: Businesses use web scraping to monitor competitors' prices, product listings, and strategies.\n",
    "\n",
    "Q2: Different Methods Used for Web Scraping\n",
    "There are various methods for web scraping, including:\n",
    "\n",
    "Manual Copy-Pasting: Manually copying and pasting data from a web page into a spreadsheet.\n",
    "Regular Expressions: Using regular expressions to extract specific patterns from HTML content.\n",
    "DOM Parsing: Parsing the Document Object Model (DOM) of a web page using programming languages like JavaScript.\n",
    "Web Scraping Libraries: Utilizing specialized libraries like Beautiful Soup, Scrapy, or Selenium for web scraping tasks.\n",
    "\n",
    "Q3: What is Beautiful Soup, and Why is it Used?\n",
    "Beautiful Soup: Beautiful Soup is a Python library used for web scraping purposes to pull data out of HTML and XML files. It provides Pythonic idioms for iterating, searching, and modifying the parse tree.\n",
    "\n",
    "Why it is Used:\n",
    "\n",
    "HTML Parsing: Beautiful Soup converts HTML or XML documents into a tree of Python objects, making it easy to navigate and search.\n",
    "Search and Filter: It provides methods to search and filter the parse tree, making it convenient for extracting relevant data.\n",
    "Compatibility: Beautiful Soup works well with different parsers and is widely used for web scraping projects.\n",
    "\n",
    "\n",
    "Q4: Why is Flask Used in this Web Scraping Project?\n",
    "Flask: Flask is a lightweight web application framework for Python. In the context of a web scraping project, Flask might be used to create a simple web interface to display or interact with the scraped data.\n",
    "\n",
    "Use Cases:\n",
    "\n",
    "Data Presentation: Flask can be used to build a web application that presents the scraped data in a user-friendly manner.\n",
    "User Interaction: It allows users to input parameters or filters for the web scraping process.\n",
    "Visualization: Flask can integrate with visualization libraries to display charts or graphs based on the scraped data.\n",
    "\n",
    "Q5: Names of AWS Services Used and Their Use\n",
    "The names of AWS services used in a web scraping project can vary based on the project's specific requirements. However, common AWS services that might be utilized include:\n",
    "\n",
    "Amazon EC2 (Elastic Compute Cloud): Provides scalable compute capacity. Used for hosting web scraping scripts or applications.\n",
    "Amazon S3 (Simple Storage Service): Offers scalable storage for storing scraped data, logs, or other artifacts.\n",
    "AWS Lambda: Enables serverless computing. May be used to run scheduled or event-triggered web scraping tasks.\n",
    "Amazon RDS (Relational Database Service): Provides managed relational databases. Used for storing structured data extracted from websites.\n",
    "Amazon CloudWatch: Offers monitoring and logging services. Used for monitoring the performance of web scraping tasks and storing logs."
   ]
  }
 ],
 "metadata": {
  "kernelspec": {
   "display_name": "Python 3 (ipykernel)",
   "language": "python",
   "name": "python3"
  },
  "language_info": {
   "codemirror_mode": {
    "name": "ipython",
    "version": 3
   },
   "file_extension": ".py",
   "mimetype": "text/x-python",
   "name": "python",
   "nbconvert_exporter": "python",
   "pygments_lexer": "ipython3",
   "version": "3.11.5"
  }
 },
 "nbformat": 4,
 "nbformat_minor": 5
}
