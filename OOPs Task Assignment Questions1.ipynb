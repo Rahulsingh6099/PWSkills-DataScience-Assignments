{
 "cells": [
  {
   "cell_type": "code",
   "execution_count": null,
   "id": "45a1e9f9",
   "metadata": {},
   "outputs": [],
   "source": [
    "Q1, Create a vehicle class with an init method having instance variables as name_of_vehicle, max_speed\n",
    "and average_of_vehicle.\n",
    "Q2. Create a child class car from the vehicle class created in Que 1, which will inherit the vehicle class.\n",
    "Create a method named seating_capacity which takes capacity as an argument and returns the name of\n",
    "the vehicle and its seating capacity.\n",
    "Q3. What is multiple inheritance? Write a python code to demonstrate multiple inheritance.\n",
    "Q4. What are getter and setter in python? Create a class and create a getter and a setter method in this\n",
    "class.\n",
    "Q5.What is method overriding in python? Write a python code to demonstrate method overriding."
   ]
  },
  {
   "cell_type": "code",
   "execution_count": null,
   "id": "8c595fa9",
   "metadata": {},
   "outputs": [],
   "source": [
    "Q1: Create a vehicle class with an init method having instance variables as name_of_vehicle, max_speed, and average_of_vehicle."
   ]
  },
  {
   "cell_type": "code",
   "execution_count": 1,
   "id": "4d0caff8",
   "metadata": {},
   "outputs": [
    {
     "name": "stdout",
     "output_type": "stream",
     "text": [
      "Name: Car, Max Speed: 200, Average: 25\n"
     ]
    }
   ],
   "source": [
    "class Vehicle:\n",
    "    def __init__(self, name_of_vehicle, max_speed, average_of_vehicle):\n",
    "        self.name_of_vehicle = name_of_vehicle\n",
    "        self.max_speed = max_speed\n",
    "        self.average_of_vehicle = average_of_vehicle\n",
    "\n",
    "# Example usage\n",
    "car = Vehicle(\"Car\", 200, 25)\n",
    "print(f\"Name: {car.name_of_vehicle}, Max Speed: {car.max_speed}, Average: {car.average_of_vehicle}\")\n"
   ]
  },
  {
   "cell_type": "raw",
   "id": "008a421e",
   "metadata": {},
   "source": [
    "Create a child class car from the vehicle class created in Q1, which will inherit the vehicle class. Create a method named seating_capacity which takes capacity as an argument and returns the name of the vehicle and its seating capacity."
   ]
  },
  {
   "cell_type": "code",
   "execution_count": 2,
   "id": "4078113d",
   "metadata": {},
   "outputs": [
    {
     "name": "stdout",
     "output_type": "stream",
     "text": [
      "Car has a seating capacity of 5.\n"
     ]
    }
   ],
   "source": [
    "class Car(Vehicle):\n",
    "    def seating_capacity(self, capacity):\n",
    "        return f\"{self.name_of_vehicle} has a seating capacity of {capacity}.\"\n",
    "\n",
    "# Example usage\n",
    "car_instance = Car(\"Car\", 200, 25)\n",
    "print(car_instance.seating_capacity(5))\n"
   ]
  },
  {
   "cell_type": "code",
   "execution_count": null,
   "id": "d95130ab",
   "metadata": {},
   "outputs": [],
   "source": [
    "What is multiple inheritance? Write a python code to demonstrate multiple inheritance"
   ]
  },
  {
   "cell_type": "raw",
   "id": "056580ee",
   "metadata": {},
   "source": [
    "Multiple Inheritance: It is a feature in object-oriented programming where a class can inherit attributes and methods from more than one parent class."
   ]
  },
  {
   "cell_type": "code",
   "execution_count": 3,
   "id": "348c1d89",
   "metadata": {},
   "outputs": [
    {
     "name": "stdout",
     "output_type": "stream",
     "text": [
      "Method from class A\n",
      "Method from class B\n",
      "Method from class C\n"
     ]
    }
   ],
   "source": [
    "class A:\n",
    "    def method_a(self):\n",
    "        print(\"Method from class A\")\n",
    "\n",
    "class B:\n",
    "    def method_b(self):\n",
    "        print(\"Method from class B\")\n",
    "\n",
    "class C(A, B):\n",
    "    def method_c(self):\n",
    "        print(\"Method from class C\")\n",
    "\n",
    "# Example usage\n",
    "obj_c = C()\n",
    "obj_c.method_a()\n",
    "obj_c.method_b()\n",
    "obj_c.method_c()\n"
   ]
  },
  {
   "cell_type": "code",
   "execution_count": null,
   "id": "22b7d51a",
   "metadata": {},
   "outputs": [],
   "source": [
    "What are getter and setter in Python? Create a class and create a getter and a setter method in this class."
   ]
  },
  {
   "cell_type": "raw",
   "id": "72c15b8e",
   "metadata": {},
   "source": [
    "Getter and Setter methods are used to get and set the values of private attributes in a class."
   ]
  },
  {
   "cell_type": "code",
   "execution_count": 4,
   "id": "3388d47f",
   "metadata": {},
   "outputs": [
    {
     "name": "stdout",
     "output_type": "stream",
     "text": [
      "42\n"
     ]
    }
   ],
   "source": [
    "class MyClass:\n",
    "    def __init__(self):\n",
    "        self._my_private_variable = None\n",
    "\n",
    "    # Getter method\n",
    "    def get_my_private_variable(self):\n",
    "        return self._my_private_variable\n",
    "\n",
    "    # Setter method\n",
    "    def set_my_private_variable(self, value):\n",
    "        self._my_private_variable = value\n",
    "\n",
    "# Example usage\n",
    "obj = MyClass()\n",
    "obj.set_my_private_variable(42)\n",
    "print(obj.get_my_private_variable())\n"
   ]
  },
  {
   "cell_type": "code",
   "execution_count": null,
   "id": "4f30654d",
   "metadata": {},
   "outputs": [],
   "source": [
    " What is method overriding in Python? Write a python code to demonstrate method overriding."
   ]
  },
  {
   "cell_type": "raw",
   "id": "d9505706",
   "metadata": {},
   "source": [
    "Method Overriding: It occurs when a derived class provides a specific implementation for a method that is already defined in its base class."
   ]
  },
  {
   "cell_type": "code",
   "execution_count": 5,
   "id": "2678eea3",
   "metadata": {},
   "outputs": [
    {
     "name": "stdout",
     "output_type": "stream",
     "text": [
      "Dog barks\n"
     ]
    }
   ],
   "source": [
    "class Animal:\n",
    "    def speak(self):\n",
    "        print(\"Animal speaks\")\n",
    "\n",
    "class Dog(Animal):\n",
    "    def speak(self):\n",
    "        print(\"Dog barks\")\n",
    "\n",
    "# Example usage\n",
    "dog = Dog()\n",
    "dog.speak()  # This will call the overridden method in the Dog class\n"
   ]
  },
  {
   "cell_type": "code",
   "execution_count": null,
   "id": "02d620c6",
   "metadata": {},
   "outputs": [],
   "source": []
  }
 ],
 "metadata": {
  "kernelspec": {
   "display_name": "Python 3 (ipykernel)",
   "language": "python",
   "name": "python3"
  },
  "language_info": {
   "codemirror_mode": {
    "name": "ipython",
    "version": 3
   },
   "file_extension": ".py",
   "mimetype": "text/x-python",
   "name": "python",
   "nbconvert_exporter": "python",
   "pygments_lexer": "ipython3",
   "version": "3.11.5"
  }
 },
 "nbformat": 4,
 "nbformat_minor": 5
}
