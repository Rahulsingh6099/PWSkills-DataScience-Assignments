{
 "cells": [
  {
   "cell_type": "code",
   "execution_count": null,
   "id": "dd9c1b25",
   "metadata": {},
   "outputs": [],
   "source": [
    "Q1. What is Abstraction in OOps? Explain with an example.\n",
    "Q2. Differentiate between Abstraction and Encapsulation. Explain with an example.\n",
    "Q3. What is abc module in python? Why is it used?\n",
    "Q4. How can we achieve data abstraction?\n",
    "Q5. Can we create an instance of an abstract class? Explain your answer."
   ]
  },
  {
   "cell_type": "code",
   "execution_count": 1,
   "id": "27ef5878",
   "metadata": {
    "scrolled": true
   },
   "outputs": [
    {
     "ename": "SyntaxError",
     "evalue": "invalid syntax (4149576953.py, line 1)",
     "output_type": "error",
     "traceback": [
      "\u001b[1;36m  Cell \u001b[1;32mIn[1], line 1\u001b[1;36m\u001b[0m\n\u001b[1;33m    Q1: What is Abstraction in OOPs? Explain with an example.\u001b[0m\n\u001b[1;37m                                   ^\u001b[0m\n\u001b[1;31mSyntaxError\u001b[0m\u001b[1;31m:\u001b[0m invalid syntax\n"
     ]
    }
   ],
   "source": [
    "Q1: What is Abstraction in OOPs? Explain with an example."
   ]
  },
  {
   "cell_type": "markdown",
   "id": "e4403f26",
   "metadata": {},
   "source": [
    "Abstraction in object-oriented programming is the process of simplifying complex systems by modeling classes based on the essential properties and behaviors they possess. It involves hiding the complex reality while exposing only what is necessary.\n",
    "\n",
    "Example:\n",
    "Consider a Car class. In an abstract sense, a car has properties like color, model, and behaviors like starting, stopping, and accelerating. In abstraction, you would focus on these essential aspects and hide the intricate details of how the engine, transmission, or braking systems work."
   ]
  },
  {
   "cell_type": "code",
   "execution_count": 6,
   "id": "a17875e5",
   "metadata": {},
   "outputs": [],
   "source": [
    "class Car:\n",
    "    def __init__(self, color, model):\n",
    "        self.color = color\n",
    "        self.model = model\n",
    "\n",
    "    def start(self):\n",
    "        print(f\"The {self.color} {self.model} car is starting.\")\n",
    "\n",
    "    def stop(self):\n",
    "        print(f\"The {self.color} {self.model} car is stopping.\")\n",
    "\n",
    "    def accelerate(self):\n",
    "        print(f\"The {self.color} {self.model} car is accelerating.\")\n"
   ]
  },
  {
   "cell_type": "markdown",
   "id": "343a8162",
   "metadata": {},
   "source": [
    " q.2 Differentiate between Abstraction and Encapsulation. Explain with an example."
   ]
  },
  {
   "cell_type": "markdown",
   "id": "6506168f",
   "metadata": {},
   "source": [
    "Abstraction focuses on exposing only the necessary features of an object and hiding the complex details. It involves using abstract classes and methods.\n",
    "\n",
    "Encapsulation involves bundling the data (attributes) and the methods that operate on the data into a single unit, known as a class. It helps in data hiding and controlling access to the data."
   ]
  },
  {
   "cell_type": "code",
   "execution_count": 8,
   "id": "27a2bb92",
   "metadata": {},
   "outputs": [],
   "source": [
    "# Abstraction\n",
    "from abc import ABC, abstractmethod\n",
    "\n",
    "class Shape(ABC):\n",
    "    @abstractmethod\n",
    "    def area(self):\n",
    "        pass\n",
    "\n",
    "class Circle(Shape):\n",
    "    def __init__(self, radius):\n",
    "        self.radius = radius\n",
    "\n",
    "    def area(self):\n",
    "        return 3.14 * self.radius * self.radius\n",
    "\n",
    "# Encapsulation\n",
    "class Student:\n",
    "    def __init__(self, name, age):\n",
    "        self._name = name  # encapsulated attribute\n",
    "        self._age = age    # encapsulated attribute\n",
    "\n",
    "    def get_name(self):\n",
    "        return self._name\n",
    "\n",
    "    def get_age(self):\n",
    "        return self._age\n",
    "\n",
    "# Creating instances\n",
    "circle = Circle(5)\n",
    "student = Student(\"John\", 20)\n"
   ]
  },
  {
   "cell_type": "code",
   "execution_count": null,
   "id": "f128fa4b",
   "metadata": {},
   "outputs": [],
   "source": [
    "Q3: What is abc module in Python? Why is it used?"
   ]
  },
  {
   "cell_type": "markdown",
   "id": "6626c98f",
   "metadata": {},
   "source": [
    "The abc (Abstract Base Classes) module in Python provides the infrastructure for defining abstract base classes. Abstract base classes are classes that cannot be instantiated and are meant to be subclassed by other classes.\n",
    "\n",
    "Purpose:\n",
    "\n",
    "To define a common interface for a set of related classes.\n",
    "To enforce that a set of methods must be implemented by all subclasses."
   ]
  },
  {
   "cell_type": "code",
   "execution_count": null,
   "id": "45f0b48f",
   "metadata": {},
   "outputs": [],
   "source": [
    "Q4: How can we achieve data abstraction?"
   ]
  },
  {
   "cell_type": "raw",
   "id": "da391af7",
   "metadata": {},
   "source": [
    "Data abstraction in Python can be achieved through abstract classes and abstract methods. Abstract classes cannot be instantiated and can have abstract methods that must be implemented by their subclasses."
   ]
  },
  {
   "cell_type": "code",
   "execution_count": 7,
   "id": "9e29528b",
   "metadata": {},
   "outputs": [
    {
     "name": "stdout",
     "output_type": "stream",
     "text": [
      "78.5\n"
     ]
    }
   ],
   "source": [
    "from abc import ABC, abstractmethod\n",
    "\n",
    "class Shape(ABC):\n",
    "    @abstractmethod\n",
    "    def area(self):\n",
    "        pass\n",
    "\n",
    "class Circle(Shape):\n",
    "    def __init__(self, radius):\n",
    "        self.radius = radius\n",
    "\n",
    "    def area(self):\n",
    "        return 3.14 * self.radius * self.radius\n",
    "\n",
    "# Creating an instance\n",
    "circle = Circle(5)\n",
    "print(circle.area())  # Accessing the abstracted method\n"
   ]
  },
  {
   "cell_type": "code",
   "execution_count": null,
   "id": "23a7d75f",
   "metadata": {},
   "outputs": [],
   "source": [
    "Q5: Can we create an instance of an abstract class? Explain your answer.\n"
   ]
  },
  {
   "cell_type": "markdown",
   "id": "614cba0b",
   "metadata": {},
   "source": [
    "No, we cannot create an instance of an abstract class in Python. Abstract classes are meant to be subclassed, and their abstract methods must be implemented by the subclasses. Attempting to instantiate an abstract class directly would result in a TypeError."
   ]
  }
 ],
 "metadata": {
  "kernelspec": {
   "display_name": "Python 3 (ipykernel)",
   "language": "python",
   "name": "python3"
  },
  "language_info": {
   "codemirror_mode": {
    "name": "ipython",
    "version": 3
   },
   "file_extension": ".py",
   "mimetype": "text/x-python",
   "name": "python",
   "nbconvert_exporter": "python",
   "pygments_lexer": "ipython3",
   "version": "3.11.5"
  }
 },
 "nbformat": 4,
 "nbformat_minor": 5
}
