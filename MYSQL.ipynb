{
 "cells": [
  {
   "cell_type": "code",
   "execution_count": null,
   "id": "5ff9897f",
   "metadata": {},
   "outputs": [],
   "source": [
    "Q1. What is a database? Differentiate between SQL and NoSQL databases.\n",
    "Q2. What is DDL? Explain why CREATE, DROP, ALTER, and TRUNCATE are used with an example.\n",
    "Q3. What is DML? Explain INSERT, UPDATE, and DELETE with an example.\n",
    "Q4. What is DQL? Explain SELECT with an example.\n",
    "Q5. Explain Primary Key and Foreign Key.\n",
    "Q6. Write a python code to connect MySQL to python. Explain the cursor() and execute() method.\n",
    "Q7. Give the order of execution of SQL clauses in an SQL query."
   ]
  },
  {
   "cell_type": "code",
   "execution_count": null,
   "id": "ca073aa1",
   "metadata": {},
   "outputs": [],
   "source": [
    "Q1. What is a database? Differentiate between SQL and NoSQL databases."
   ]
  },
  {
   "cell_type": "markdown",
   "id": "31dc0fb7",
   "metadata": {},
   "source": [
    "Database:\n",
    "\n",
    "A database is a structured collection of data organized in a way that facilitates efficient retrieval, storage, and management of data. It can store and retrieve data quickly and accurately using appropriate data models.\n",
    "\n",
    "SQL vs. NoSQL:\n",
    "\n",
    "SQL (Structured Query Language):\n",
    "\n",
    "Data Structure: SQL databases are table-based and follow a predefined schema.\n",
    "Scalability: Vertically scalable (scaling up by increasing the power of an existing machine).\n",
    "\n",
    "Examples: MySQL, PostgreSQL, SQLite, Oracle.\n",
    "\n",
    "NoSQL:\n",
    "\n",
    "Data Structure: NoSQL databases are document-based, key-value pairs, graph databases, or wide-column stores and don't require a fixed schema.\n",
    "Scalability: Horizontally scalable (scaling out by adding more machines to the database).\n",
    "Examples: MongoDB, CouchDB, Cassandra, Redis."
   ]
  },
  {
   "cell_type": "code",
   "execution_count": null,
   "id": "a6e76a18",
   "metadata": {},
   "outputs": [],
   "source": [
    "Q2. What is DDL? Explain why CREATE, DROP, ALTER, and TRUNCATE are used with an example.\n",
    "DDL (Data Definition Language):\n",
    "DDL is a subset of SQL used for defining and managing the structure of a database."
   ]
  },
  {
   "cell_type": "code",
   "execution_count": null,
   "id": "d254294a",
   "metadata": {},
   "outputs": [],
   "source": [
    "CREATE TABLE students (\n",
    "    id INT PRIMARY KEY,\n",
    "    name VARCHAR(50),\n",
    "    age INT\n",
    ");\n"
   ]
  },
  {
   "cell_type": "code",
   "execution_count": null,
   "id": "1b4f977f",
   "metadata": {},
   "outputs": [],
   "source": [
    "DROP TABLE students;\n"
   ]
  },
  {
   "cell_type": "code",
   "execution_count": null,
   "id": "85675460",
   "metadata": {},
   "outputs": [],
   "source": [
    "ALTER TABLE students ADD COLUMN grade CHAR(1);\n"
   ]
  },
  {
   "cell_type": "code",
   "execution_count": null,
   "id": "86ce778b",
   "metadata": {},
   "outputs": [],
   "source": [
    "TRUNCATE TABLE students;\n"
   ]
  },
  {
   "cell_type": "code",
   "execution_count": null,
   "id": "537bb80b",
   "metadata": {},
   "outputs": [],
   "source": [
    "Q3. What is DML? Explain INSERT, UPDATE, and DELETE with an example."
   ]
  },
  {
   "cell_type": "code",
   "execution_count": null,
   "id": "b12d36ee",
   "metadata": {},
   "outputs": [],
   "source": [
    "DML (Data Manipulation Language):\n",
    "DML is a subset of SQL used for manipulating data stored in the database.\n"
   ]
  },
  {
   "cell_type": "code",
   "execution_count": null,
   "id": "5e84dffb",
   "metadata": {},
   "outputs": [],
   "source": [
    "INSERT INTO students (id, name, age, grade) VALUES (1, 'John Doe', 25, 'A');\n"
   ]
  },
  {
   "cell_type": "code",
   "execution_count": null,
   "id": "040fce91",
   "metadata": {},
   "outputs": [],
   "source": [
    "UPDATE students SET age = 26 WHERE id = 1;\n"
   ]
  },
  {
   "cell_type": "code",
   "execution_count": null,
   "id": "bf646136",
   "metadata": {},
   "outputs": [],
   "source": [
    "DELETE FROM students WHERE id = 1;\n"
   ]
  },
  {
   "cell_type": "code",
   "execution_count": null,
   "id": "88c60c0a",
   "metadata": {},
   "outputs": [],
   "source": [
    "Q4. What is DQL? Explain SELECT with an example."
   ]
  },
  {
   "cell_type": "code",
   "execution_count": null,
   "id": "3a99b5c7",
   "metadata": {},
   "outputs": [],
   "source": [
    "DQL (Data Query Language):\n",
    "DQL is a subset of SQL used for querying the database to retrieve specific information"
   ]
  },
  {
   "cell_type": "code",
   "execution_count": null,
   "id": "73647574",
   "metadata": {},
   "outputs": [],
   "source": [
    "SELECT * FROM students WHERE age > 20;\n"
   ]
  },
  {
   "cell_type": "code",
   "execution_count": null,
   "id": "f51f2bdc",
   "metadata": {},
   "outputs": [],
   "source": [
    "Q5. Explain Primary Key and Foreign Key."
   ]
  },
  {
   "cell_type": "code",
   "execution_count": null,
   "id": "63976e4e",
   "metadata": {},
   "outputs": [],
   "source": [
    "Primary Key:\n",
    "\n",
    "A primary key is a column or a set of columns that uniquely identifies each record in a table.\n",
    "It must contain unique values, and it cannot have NULL values."
   ]
  },
  {
   "cell_type": "code",
   "execution_count": null,
   "id": "811c6c90",
   "metadata": {},
   "outputs": [],
   "source": [
    "CREATE TABLE students (\n",
    "    student_id INT PRIMARY KEY,\n",
    "    name VARCHAR(50),\n",
    "    age INT\n",
    ");\n"
   ]
  },
  {
   "cell_type": "code",
   "execution_count": null,
   "id": "79433a7b",
   "metadata": {},
   "outputs": [],
   "source": [
    "Foreign Key:\n",
    "\n",
    "A foreign key is a column or a set of columns that refers to the primary key of another table.\n",
    "It establishes a link between two tables"
   ]
  },
  {
   "cell_type": "code",
   "execution_count": null,
   "id": "7fda117f",
   "metadata": {},
   "outputs": [],
   "source": [
    "CREATE TABLE courses (\n",
    "    course_id INT PRIMARY KEY,\n",
    "    course_name VARCHAR(50),\n",
    "    student_id INT,\n",
    "    FOREIGN KEY (student_id) REFERENCES students(student_id)\n",
    ");\n"
   ]
  },
  {
   "cell_type": "code",
   "execution_count": null,
   "id": "2cc81538",
   "metadata": {},
   "outputs": [],
   "source": [
    "Q6. Write a python code to connect MySQL to python. Explain the cursor() and execute() method."
   ]
  },
  {
   "cell_type": "code",
   "execution_count": null,
   "id": "9709261c",
   "metadata": {},
   "outputs": [],
   "source": [
    "import mysql.connector\n",
    "\n",
    "# Connect to MySQL database\n",
    "conn = mysql.connector.connect(\n",
    "    host=\"localhost\",\n",
    "    user=\"username\",\n",
    "    password=\"password\",\n",
    "    database=\"mydatabase\"\n",
    ")\n",
    "\n",
    "# Create a cursor object\n",
    "cursor = conn.cursor()\n",
    "\n",
    "# Execute SQL query using execute method\n",
    "cursor.execute(\"SELECT * FROM students\")\n",
    "\n",
    "# Fetch all the rows using fetchall method\n",
    "rows = cursor.fetchall()\n",
    "\n",
    "# Iterate through the rows\n",
    "for row in rows:\n",
    "    print(row)\n",
    "\n",
    "# Close the cursor and connection\n",
    "cursor.close()\n",
    "conn.close()\n"
   ]
  },
  {
   "cell_type": "code",
   "execution_count": null,
   "id": "2a2a45af",
   "metadata": {},
   "outputs": [],
   "source": [
    "Q7. Give the order of execution of SQL clauses in an SQL query."
   ]
  },
  {
   "cell_type": "code",
   "execution_count": null,
   "id": "18ebd42e",
   "metadata": {},
   "outputs": [],
   "source": [
    "The order of execution of clauses in an SQL query is as follows:\n",
    "\n",
    "FROM: Specifies the table or tables from which data is to be retrieved.\n",
    "WHERE: Filters the rows based on the specified conditions.\n",
    "GROUP BY: Groups the result set by one or more columns.\n",
    "HAVING: Filters the grouped rows based on the specified conditions.\n",
    "SELECT: Specifies the columns to"
   ]
  }
 ],
 "metadata": {
  "kernelspec": {
   "display_name": "Python 3 (ipykernel)",
   "language": "python",
   "name": "python3"
  },
  "language_info": {
   "codemirror_mode": {
    "name": "ipython",
    "version": 3
   },
   "file_extension": ".py",
   "mimetype": "text/x-python",
   "name": "python",
   "nbconvert_exporter": "python",
   "pygments_lexer": "ipython3",
   "version": "3.11.5"
  }
 },
 "nbformat": 4,
 "nbformat_minor": 5
}
