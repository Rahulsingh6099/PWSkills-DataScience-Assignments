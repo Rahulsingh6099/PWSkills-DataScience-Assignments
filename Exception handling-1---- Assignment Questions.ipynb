{
 "cells": [
  {
   "cell_type": "code",
   "execution_count": null,
   "id": "38c909c6",
   "metadata": {},
   "outputs": [],
   "source": [
    "Q1. What is an Exception in Python? Write the difference between Exceptions and Syntax errors."
   ]
  },
  {
   "cell_type": "raw",
   "id": "ddbae59d",
   "metadata": {},
   "source": [
    "An exception in Python is an event that occurs during the execution of a program, disrupting the normal flow of the program's instructions. Exceptions can be caused by various factors, such as invalid input, division by zero, or trying to access an undefined variable"
   ]
  },
  {
   "cell_type": "raw",
   "id": "54915e67",
   "metadata": {},
   "source": [
    "Difference between Exceptions and Syntax errors:\n",
    "\n",
    "Syntax errors: These errors occur when the Python interpreter cannot interpret the code due to incorrect syntax. They are detected during the parsing phase before the code is executed.\n",
    "\n",
    "Exceptions: These errors occur during the execution of a program. They are not detected by the Python interpreter during the parsing phase but during runtime when an unexpected situation arises"
   ]
  },
  {
   "cell_type": "code",
   "execution_count": null,
   "id": "49239aae",
   "metadata": {},
   "outputs": [],
   "source": [
    "Q.2- What happens when an exception is not handled? Explain with an example."
   ]
  },
  {
   "cell_type": "raw",
   "id": "efd9995e",
   "metadata": {},
   "source": [
    "When an exception is not handled, it propagates up the call stack until it encounters an appropriate exception handler. If there is no handler, the program terminates, and an error message is displayed."
   ]
  },
  {
   "cell_type": "code",
   "execution_count": null,
   "id": "e9741c96",
   "metadata": {},
   "outputs": [],
   "source": [
    "# Division by zero exception not handled\n",
    "result = 10 / 0\n",
    "print(\"This line will not be executed.\")\n"
   ]
  },
  {
   "cell_type": "code",
   "execution_count": null,
   "id": "20b664d6",
   "metadata": {},
   "outputs": [],
   "source": [
    "Q3. Which Python statements are used to raise and handle exceptions? Explain with an example."
   ]
  },
  {
   "cell_type": "code",
   "execution_count": 2,
   "id": "49df1aff",
   "metadata": {},
   "outputs": [
    {
     "name": "stdout",
     "output_type": "stream",
     "text": [
      "Cannot divide by zero!\n"
     ]
    }
   ],
   "source": [
    "try:\n",
    "    # Code that may cause an exception\n",
    "    result = 10 / 0\n",
    "except ZeroDivisionError:\n",
    "    # Handling the ZeroDivisionError\n",
    "    print(\"Cannot divide by zero!\")\n"
   ]
  },
  {
   "cell_type": "code",
   "execution_count": null,
   "id": "b4def9bc",
   "metadata": {},
   "outputs": [],
   "source": [
    "Q4. Explain with an example: try, except, else, and finally."
   ]
  },
  {
   "cell_type": "code",
   "execution_count": 3,
   "id": "d677019f",
   "metadata": {},
   "outputs": [
    {
     "name": "stdout",
     "output_type": "stream",
     "text": [
      "Division successful!\n",
      "This block always runs.\n"
     ]
    }
   ],
   "source": [
    "try:\n",
    "    # Code that may cause an exception\n",
    "    result = 10 / 2\n",
    "except ZeroDivisionError:\n",
    "    # Handling the ZeroDivisionError\n",
    "    print(\"Cannot divide by zero!\")\n",
    "else:\n",
    "    # Executed if no exception is raised\n",
    "    print(\"Division successful!\")\n",
    "finally:\n",
    "    # Always executed, whether an exception occurred or not\n",
    "    print(\"This block always runs.\")\n"
   ]
  },
  {
   "cell_type": "code",
   "execution_count": null,
   "id": "2873d991",
   "metadata": {},
   "outputs": [],
   "source": [
    "Q5. What are Custom Exceptions in Python? Why do we need Custom Exceptions? Explain with an example."
   ]
  },
  {
   "cell_type": "raw",
   "id": "8e3c3728",
   "metadata": {},
   "source": [
    "Custom exceptions in Python are user-defined exceptions created by deriving from the Exception class. They allow programmers to create their own exception types based on specific application requirements."
   ]
  },
  {
   "cell_type": "code",
   "execution_count": 4,
   "id": "39710ba0",
   "metadata": {},
   "outputs": [
    {
     "name": "stdout",
     "output_type": "stream",
     "text": [
      "Custom Exception: This is a custom exception.\n"
     ]
    }
   ],
   "source": [
    "class CustomError(Exception):\n",
    "    def __init__(self, message):\n",
    "        super().__init__(message)\n",
    "\n",
    "try:\n",
    "    # Code that may raise a custom exception\n",
    "    raise CustomError(\"This is a custom exception.\")\n",
    "except CustomError as ce:\n",
    "    # Handling the custom exception\n",
    "    print(f\"Custom Exception: {ce}\")\n"
   ]
  },
  {
   "cell_type": "code",
   "execution_count": null,
   "id": "0c03e4c0",
   "metadata": {},
   "outputs": [],
   "source": [
    "Q6. Create a custom exception class. Use this class to handle an exception."
   ]
  },
  {
   "cell_type": "code",
   "execution_count": 5,
   "id": "60fd8efc",
   "metadata": {},
   "outputs": [
    {
     "name": "stdout",
     "output_type": "stream",
     "text": [
      "Custom Exception: This is a custom exception.\n"
     ]
    }
   ],
   "source": [
    "class CustomError(Exception):\n",
    "    def __init__(self, message):\n",
    "        super().__init__(message)\n",
    "\n",
    "try:\n",
    "    # Code that may raise a custom exception\n",
    "    raise CustomError(\"This is a custom exception.\")\n",
    "except CustomError as ce:\n",
    "    # Handling the custom exception\n",
    "    print(f\"Custom Exception: {ce}\")\n"
   ]
  },
  {
   "cell_type": "code",
   "execution_count": null,
   "id": "9b69cc0e",
   "metadata": {},
   "outputs": [],
   "source": []
  }
 ],
 "metadata": {
  "kernelspec": {
   "display_name": "Python 3 (ipykernel)",
   "language": "python",
   "name": "python3"
  },
  "language_info": {
   "codemirror_mode": {
    "name": "ipython",
    "version": 3
   },
   "file_extension": ".py",
   "mimetype": "text/x-python",
   "name": "python",
   "nbconvert_exporter": "python",
   "pygments_lexer": "ipython3",
   "version": "3.11.5"
  }
 },
 "nbformat": 4,
 "nbformat_minor": 5
}
