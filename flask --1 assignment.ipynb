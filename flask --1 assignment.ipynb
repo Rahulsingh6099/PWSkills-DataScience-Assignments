{
 "cells": [
  {
   "cell_type": "code",
   "execution_count": null,
   "id": "721a5e8d",
   "metadata": {},
   "outputs": [],
   "source": [
    "Q1. What is Flask Framework? What are the advantages of Flask Framework?"
   ]
  },
  {
   "cell_type": "raw",
   "id": "d5058437",
   "metadata": {},
   "source": [
    "Flask Framework:\n",
    "Flask is a micro web framework for Python, designed to be lightweight and modular. It provides tools, libraries, and templates to build web applications. Flask is often used for small to medium-sized projects due to its simplicity and ease of use.\n",
    "\n",
    "Advantages of Flask Framework:\n",
    "\n",
    "Lightweight: Flask is a micro-framework, keeping it simple and easy to use.\n",
    "Modular: Flask is modular, allowing developers to choose the components they need.\n",
    "Flexibility: Flask gives developers the flexibility to choose libraries and tools for their projects.\n",
    "Easy to Learn: Flask has a simple syntax and is easy for beginners to pick up quickly.\n",
    "Extensibility: Flask can be extended with various plugins to add functionalities.\n",
    "Jinja2 Templating: Flask uses Jinja2 templating, making it easy to create dynamic content.\n",
    "Built-in Development Server: Flask comes with a built-in development server for quick testing"
   ]
  },
  {
   "cell_type": "code",
   "execution_count": null,
   "id": "339ed442",
   "metadata": {},
   "outputs": [],
   "source": [
    "Q2. Create a simple Flask application to display ‘Hello World!!’. Attach the screenshot of the output in Jupyter Notebook."
   ]
  },
  {
   "cell_type": "code",
   "execution_count": null,
   "id": "2f96a152",
   "metadata": {},
   "outputs": [],
   "source": [
    "# Flask Hello World Example\n",
    "\n",
    "from flask import Flask\n",
    "\n",
    "app = Flask(__name__)\n",
    "\n",
    "@app.route('/')\n",
    "def hello_world():\n",
    "    return 'Hello World!!'\n",
    "\n",
    "if __name__ == '__main__':\n",
    "    app.run(debug=True)\n"
   ]
  },
  {
   "cell_type": "raw",
   "id": "eb2f1889",
   "metadata": {},
   "source": [
    "Q3. What is App routing in Flask? Why do we use app routes?\n",
    "App Routing in Flask:\n",
    "App routing in Flask refers to defining routes (URL patterns) that map to specific functions in the application. These routes are defined using the @app.route decorator. Each route corresponds to a different URL, and when a user accesses that URL, the associated function is called to handle the request.\n",
    "\n",
    "Purpose of App Routes:\n",
    "\n",
    "URL Mapping: App routes define how different URLs will be mapped to functions.\n",
    "Request Handling: Each route handles a specific type of request (GET, POST, etc.) and defines what content should be returned.\n",
    "Organizing Code: App routes help in organizing code by grouping related functionalities together.\n",
    "Creating Endpoints: Routes define the various endpoints of the web application, determining what the user can access."
   ]
  },
  {
   "cell_type": "raw",
   "id": "0628e827",
   "metadata": {},
   "source": [
    "Q4. Create a \"/welcome\" route to display the welcome message \"Welcome to ABC Corporation\" and a \"/\" route to show the following details:\n",
    "Company Name: ABC Corporation\n",
    "Location: India\n",
    "Contact Detail: 999-999-9999"
   ]
  },
  {
   "cell_type": "raw",
   "id": "667eafbd",
   "metadata": {},
   "source": [
    "\n",
    "Q5. What function is used in Flask for URL Building? Write a Python code to demonstrate the working of the url_for() function.\n",
    "\n",
    "\n",
    "The url_for() function in Flask is used for URL building. It generates a URL for a specified endpoint, and it can also include arguments. It is particularly useful when you need to build a URL dynamically, and it helps in avoiding hardcoding URLs."
   ]
  },
  {
   "cell_type": "code",
   "execution_count": null,
   "id": "cba21caa",
   "metadata": {},
   "outputs": [],
   "source": [
    "# Flask URL Building Example\n",
    "\n",
    "from flask import Flask, url_for\n",
    "\n",
    "app = Flask(__name__)\n",
    "\n",
    "@app.route('/')\n",
    "def home():\n",
    "    return 'Home Page'\n",
    "\n",
    "@app.route('/user/<username>')\n",
    "def user_profile(username):\n",
    "    return f'User Profile: {username}'\n",
    "\n",
    "if __name__ == '__main__':\n",
    "    with app.test_request_context():\n",
    "        print(url_for('home'))  # Output: /\n",
    "        print(url_for('user_profile', username='john'))  # Output: /user/john\n"
   ]
  }
 ],
 "metadata": {
  "kernelspec": {
   "display_name": "Python 3 (ipykernel)",
   "language": "python",
   "name": "python3"
  },
  "language_info": {
   "codemirror_mode": {
    "name": "ipython",
    "version": 3
   },
   "file_extension": ".py",
   "mimetype": "text/x-python",
   "name": "python",
   "nbconvert_exporter": "python",
   "pygments_lexer": "ipython3",
   "version": "3.11.5"
  }
 },
 "nbformat": 4,
 "nbformat_minor": 5
}
