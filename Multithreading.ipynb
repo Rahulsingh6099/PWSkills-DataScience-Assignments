{
 "cells": [
  {
   "cell_type": "code",
   "execution_count": null,
   "id": "98009175",
   "metadata": {},
   "outputs": [],
   "source": [
    "). what is multithreading in python? hy is it used? Name the module used to handle threads in python\n",
    ". hy threading module used? rite the use of the following functions\n",
    "( activeCount\n",
    " currentThread\n",
    " enumerate)\n",
    "3. Explain the following functions\n",
    "( run\n",
    " start\n",
    " join\n",
    "' isAlive)\n",
    "4. rite a python program to create two threads. Thread one must print the list of squares and thread\n",
    "two must print the list of cubes\n",
    "5. State advantages and disadvantages of multithreading\n",
    "6. Explain deadlocks and race conditions."
   ]
  },
  {
   "cell_type": "raw",
   "id": "9b74f465",
   "metadata": {},
   "source": [
    "Q1. What is multithreading in Python? Why is it used? Name the module used to handle threads in Python. Why is the threading module used? Write the use of the following functions (activeCount, currentThread, enumerate)."
   ]
  },
  {
   "cell_type": "markdown",
   "id": "ede197df",
   "metadata": {},
   "source": [
    "Multithreading in Python:\n",
    "Multithreading is the concurrent execution of multiple threads (smaller units of a process) to improve the program's performance and responsiveness. It allows different parts of a program to run independently."
   ]
  },
  {
   "cell_type": "code",
   "execution_count": null,
   "id": "1fb858fa",
   "metadata": {},
   "outputs": [],
   "source": [
    "q.2 "
   ]
  },
  {
   "cell_type": "raw",
   "id": "62927b4c",
   "metadata": {},
   "source": [
    "\n",
    "Q1. What is multithreading in Python? Why is it used? Name the module used to handle threads in Python. Why is the threading module used? Write the use of the following functions (activeCount, currentThread, enumerate).\n",
    "Multithreading in Python:\n",
    "Multithreading is the concurrent execution of multiple threads (smaller units of a process) to improve the program's performance and responsiveness. It allows different parts of a program to run independently.\n",
    "\n",
    "Module for Handling Threads:\n",
    "The threading module is used to handle threads in Python.\n",
    "\n",
    "Functions in Threading Module:\n",
    "\n",
    "activeCount: Returns the number of Thread objects currently alive.\n",
    "currentThread: Returns the current Thread object corresponding to the caller's thread of control.\n",
    "enumerate: Returns a list of all Thread objects currently alive."
   ]
  },
  {
   "cell_type": "code",
   "execution_count": 1,
   "id": "77cb656d",
   "metadata": {},
   "outputs": [
    {
     "name": "stdout",
     "output_type": "stream",
     "text": [
      "Number of active threads: 6\n",
      "Current Thread: MainThread\n",
      "All Threads: ['MainThread', 'IOPub', 'Heartbeat', 'Control', 'IPythonHistorySavingThread', 'Thread-4']\n"
     ]
    },
    {
     "name": "stderr",
     "output_type": "stream",
     "text": [
      "C:\\Users\\engin\\AppData\\Local\\Temp\\ipykernel_10968\\3503778342.py:4: DeprecationWarning: activeCount() is deprecated, use active_count() instead\n",
      "  print(f\"Number of active threads: {threading.activeCount()}\")\n",
      "C:\\Users\\engin\\AppData\\Local\\Temp\\ipykernel_10968\\3503778342.py:7: DeprecationWarning: currentThread() is deprecated, use current_thread() instead\n",
      "  current_thread = threading.currentThread()\n"
     ]
    }
   ],
   "source": [
    "import threading\n",
    "\n",
    "# activeCount\n",
    "print(f\"Number of active threads: {threading.activeCount()}\")\n",
    "\n",
    "# currentThread\n",
    "current_thread = threading.currentThread()\n",
    "print(f\"Current Thread: {current_thread.name}\")\n",
    "\n",
    "# enumerate\n",
    "all_threads = threading.enumerate()\n",
    "print(f\"All Threads: {[thread.name for thread in all_threads]}\")\n"
   ]
  },
  {
   "cell_type": "code",
   "execution_count": null,
   "id": "50de664e",
   "metadata": {},
   "outputs": [],
   "source": [
    "Q3. Explain the following functions (run, start, join, isAlive)."
   ]
  },
  {
   "cell_type": "code",
   "execution_count": null,
   "id": "12d9c80c",
   "metadata": {},
   "outputs": [],
   "source": [
    "Functions in Thread Class:\n",
    "\n",
    "run: The run method contains the code that will be executed by the thread.\n",
    "start: The start method starts the thread's activity. It invokes the run method.\n",
    "join: The join method waits for the thread to complete its execution before moving on.\n",
    "isAlive: The isAlive method checks if the thread is still executing."
   ]
  },
  {
   "cell_type": "raw",
   "id": "c3717d38",
   "metadata": {},
   "source": [
    "Q4. Write a Python program to create two threads. Thread one must print the list of squares, and thread two must print the list of cubes."
   ]
  },
  {
   "cell_type": "code",
   "execution_count": 2,
   "id": "fc1ba334",
   "metadata": {},
   "outputs": [
    {
     "name": "stdout",
     "output_type": "stream",
     "text": [
      "Square of 1: 1\n",
      "Square of 2: 4\n",
      "Square of 3: 9\n",
      "Square of 4: 16\n",
      "Square of 5: 25\n",
      "Cube of 1: 1\n",
      "Cube of 2: 8\n",
      "Cube of 3: 27\n",
      "Cube of 4: 64\n",
      "Cube of 5: 125\n"
     ]
    }
   ],
   "source": [
    "import threading\n",
    "\n",
    "def print_squares():\n",
    "    for i in range(1, 6):\n",
    "        print(f\"Square of {i}: {i*i}\")\n",
    "\n",
    "def print_cubes():\n",
    "    for i in range(1, 6):\n",
    "        print(f\"Cube of {i}: {i*i*i}\")\n",
    "\n",
    "# Create two threads\n",
    "thread1 = threading.Thread(target=print_squares)\n",
    "thread2 = threading.Thread(target=print_cubes)\n",
    "\n",
    "# Start the threads\n",
    "thread1.start()\n",
    "thread2.start()\n",
    "\n",
    "# Wait for both threads to finish\n",
    "thread1.join()\n",
    "thread2.join()\n"
   ]
  },
  {
   "cell_type": "code",
   "execution_count": null,
   "id": "3bf07634",
   "metadata": {},
   "outputs": [],
   "source": [
    "Q5. State advantages and disadvantages of multithreading.\n"
   ]
  },
  {
   "cell_type": "markdown",
   "id": "2fff7a67",
   "metadata": {},
   "source": [
    "Advantages:\n",
    "\n",
    "Improved Performance: Multithreading can lead to better utilization of CPU resources and improved program performance.\n",
    "Responsiveness: Allows the program to remain responsive even when certain tasks are time-consuming.\n",
    "Resource Sharing: Threads within the same process can share resources like memory, leading to efficient data sharing.\n",
    "Parallel Execution: Tasks can be executed in parallel, enhancing efficiency on multi-core systems.\n",
    "Concurrency: Enables concurrent execution, allowing multiple parts of the program to progress simultaneously.\n",
    "\n",
    "Disadvantages:\n",
    "\n",
    "Complexity: Multithreading introduces complexity in managing shared resources and synchronization.\n",
    "Difficulty in Debugging: Debugging multithreaded programs can be challenging due to potential race conditions and deadlocks.\n",
    "Overhead: There is overhead in creating and managing threads, which may negate the benefits for small tasks.\n",
    "Potential for Deadlocks: Improper synchronization can lead to deadlocks, where threads are blocked indefinitely.\n",
    "GIL (Global Interpreter Lock): In CPython, the GIL allows only one thread to execute Python bytecode at a time, limiting the benefits of multithreading in CPU-bound tasks."
   ]
  },
  {
   "cell_type": "code",
   "execution_count": null,
   "id": "7b75048b",
   "metadata": {},
   "outputs": [],
   "source": [
    "Q6. Explain deadlocks and race conditions."
   ]
  },
  {
   "cell_type": "markdown",
   "id": "ef6217b9",
   "metadata": {},
   "source": [
    "Deadlock:\n",
    "A deadlock occurs when two or more threads are blocked forever, each waiting for the other to release a resource. It typically involves a circular waiting scenario where each thread is holding a resource that the other thread needs.\n",
    "\n",
    "Race Condition:\n",
    "A race condition occurs when two or more threads access shared data concurrently, and the final outcome depends on the timing of their execution. It can lead to unpredictable results and errors if proper synchronization mechanisms are not used"
   ]
  },
  {
   "cell_type": "code",
   "execution_count": 3,
   "id": "4f2beed4",
   "metadata": {},
   "outputs": [
    {
     "name": "stdout",
     "output_type": "stream",
     "text": [
      "Thread 1 is holding both resources.\n",
      "Thread 2 is holding both resources.\n"
     ]
    }
   ],
   "source": [
    "import threading\n",
    "\n",
    "resource1 = threading.Lock()\n",
    "resource2 = threading.Lock()\n",
    "\n",
    "def thread1_func():\n",
    "    with resource1:\n",
    "        with resource2:\n",
    "            print(\"Thread 1 is holding both resources.\")\n",
    "\n",
    "def thread2_func():\n",
    "    with resource2:\n",
    "        with resource1:\n",
    "            print(\"Thread 2 is holding both resources.\")\n",
    "\n",
    "thread1 = threading.Thread(target=thread1_func)\n",
    "thread2 = threading.Thread(target=thread2_func)\n",
    "\n",
    "thread1.start()\n",
    "thread2.start()\n",
    "\n",
    "thread1.join()\n",
    "thread2.join()\n"
   ]
  },
  {
   "cell_type": "code",
   "execution_count": null,
   "id": "724facca",
   "metadata": {},
   "outputs": [],
   "source": [
    "Race Condition"
   ]
  },
  {
   "cell_type": "code",
   "execution_count": 4,
   "id": "1de86671",
   "metadata": {},
   "outputs": [
    {
     "name": "stdout",
     "output_type": "stream",
     "text": [
      "Final Counter Value: 2000000\n"
     ]
    }
   ],
   "source": [
    "import threading\n",
    "\n",
    "counter = 0\n",
    "\n",
    "def increment_counter():\n",
    "    global counter\n",
    "    for _ in range(1000000):\n",
    "        counter += 1\n",
    "\n",
    "thread1 = threading.Thread(target=increment_counter)\n",
    "thread2 = threading.Thread(target=increment_counter)\n",
    "\n",
    "thread1.start()\n",
    "thread2.start()\n",
    "\n",
    "thread1.join()\n",
    "thread2.join()\n",
    "\n",
    "print(f\"Final Counter Value: {counter}\")\n"
   ]
  },
  {
   "cell_type": "code",
   "execution_count": null,
   "id": "d8275bca",
   "metadata": {},
   "outputs": [],
   "source": []
  }
 ],
 "metadata": {
  "kernelspec": {
   "display_name": "Python 3 (ipykernel)",
   "language": "python",
   "name": "python3"
  },
  "language_info": {
   "codemirror_mode": {
    "name": "ipython",
    "version": 3
   },
   "file_extension": ".py",
   "mimetype": "text/x-python",
   "name": "python",
   "nbconvert_exporter": "python",
   "pygments_lexer": "ipython3",
   "version": "3.11.5"
  }
 },
 "nbformat": 4,
 "nbformat_minor": 5
}
