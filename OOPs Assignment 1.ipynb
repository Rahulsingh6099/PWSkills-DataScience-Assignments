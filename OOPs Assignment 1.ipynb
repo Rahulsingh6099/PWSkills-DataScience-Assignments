{
 "cells": [
  {
   "cell_type": "code",
   "execution_count": null,
   "id": "c3ad840f",
   "metadata": {},
   "outputs": [],
   "source": [
    "Q1. Explain Class and Object with respect to Object-Oriented Programming. Give a suitable example.\n",
    "Q2. Name the four pillars of OOPs.\n",
    "Q3. Explain why the __init__() function is used. Give a suitable example.\n",
    "Q4. Why self is used in OOPs?\n",
    "Q5. What is inheritance? Give an example for each type of inheritance."
   ]
  },
  {
   "cell_type": "code",
   "execution_count": null,
   "id": "e2ba55ef",
   "metadata": {},
   "outputs": [],
   "source": [
    " Explain Class and Object with respect to Object-Oriented Programming. Give a suitable example."
   ]
  },
  {
   "cell_type": "code",
   "execution_count": 1,
   "id": "ff31bebb",
   "metadata": {},
   "outputs": [
    {
     "name": "stdout",
     "output_type": "stream",
     "text": [
      "Buddy is 3 years old.\n",
      "Buddy is barking!\n"
     ]
    }
   ],
   "source": [
    "# Class definition\n",
    "class Dog:\n",
    "    def __init__(self, name, age):\n",
    "        self.name = name\n",
    "        self.age = age\n",
    "\n",
    "    def bark(self):\n",
    "        print(f\"{self.name} is barking!\")\n",
    "\n",
    "# Object creation\n",
    "my_dog = Dog(\"Buddy\", 3)\n",
    "\n",
    "# Accessing attributes and calling methods\n",
    "print(f\"{my_dog.name} is {my_dog.age} years old.\")\n",
    "my_dog.bark()\n"
   ]
  },
  {
   "cell_type": "code",
   "execution_count": null,
   "id": "a16dd535",
   "metadata": {},
   "outputs": [],
   "source": [
    "Name the four pillars of OOPs"
   ]
  },
  {
   "cell_type": "code",
   "execution_count": null,
   "id": "168c44df",
   "metadata": {},
   "outputs": [],
   "source": [
    "The four pillars of Object-Oriented Programming are:\n",
    "\n",
    "Encapsulation: The bundling of data and methods that operate on that data into a single unit (class).\n",
    "\n",
    "Inheritance: The mechanism by which a class can inherit properties and behaviors from another class.\n",
    "\n",
    "Polymorphism: The ability of objects to take on multiple forms, i.e., the same method name having different implementations in different classes.\n",
    "\n",
    "Abstraction: The process of simplifying complex systems by modeling classes based on essential properties and behaviors."
   ]
  },
  {
   "cell_type": "code",
   "execution_count": null,
   "id": "c18598d7",
   "metadata": {},
   "outputs": [],
   "source": [
    "Explain why the __init__() function is used. Give a suitable example."
   ]
  },
  {
   "cell_type": "code",
   "execution_count": 7,
   "id": "3af8ca6d",
   "metadata": {},
   "outputs": [],
   "source": [
    "class Car:\n",
    "    def __init__(self, make, model, year):\n",
    "        self.make = make\n",
    "        self.model = model\n",
    "        self.year = year\n",
    "\n",
    "# Creating an object and initializing attributes\n",
    "my_car = Car(\"Toyota\", \"Camry\", 2022)\n"
   ]
  },
  {
   "cell_type": "code",
   "execution_count": null,
   "id": "b7395796",
   "metadata": {},
   "outputs": [],
   "source": [
    "Why self is used in OOPs?"
   ]
  },
  {
   "cell_type": "code",
   "execution_count": null,
   "id": "0ef08969",
   "metadata": {},
   "outputs": [],
   "source": [
    "In Python, self is a convention for the first parameter of a method in a class. It refers to the instance of the class itself. When you call a method on an object, the object itself is passed as the first argument to the method. self is used to access and modify the attributes of the object within the class."
   ]
  },
  {
   "cell_type": "code",
   "execution_count": null,
   "id": "6f4ab136",
   "metadata": {},
   "outputs": [],
   "source": [
    "What is inheritance? Give an example for each type of inheritance."
   ]
  },
  {
   "cell_type": "code",
   "execution_count": null,
   "id": "768bf052",
   "metadata": {},
   "outputs": [],
   "source": [
    "SINGLE"
   ]
  },
  {
   "cell_type": "code",
   "execution_count": 4,
   "id": "e2b47c40",
   "metadata": {},
   "outputs": [],
   "source": [
    "class Animal:\n",
    "    def speak(self):\n",
    "        print(\"Animal speaks\")\n",
    "\n",
    "class Dog(Animal):\n",
    "    def bark(self):\n",
    "        print(\"Dog barks\")\n"
   ]
  },
  {
   "cell_type": "code",
   "execution_count": null,
   "id": "73bb08c4",
   "metadata": {},
   "outputs": [],
   "source": [
    "MULTIPLE"
   ]
  },
  {
   "cell_type": "code",
   "execution_count": 8,
   "id": "94a474ed",
   "metadata": {},
   "outputs": [],
   "source": [
    "class A:\n",
    "    def methodA(self):\n",
    "        print(\"Method A\")\n",
    "\n",
    "class B:\n",
    "    def methodB(self):\n",
    "        print(\"Method B\")\n",
    "\n",
    "class C(A, B):\n",
    "    def methodC(self):\n",
    "        print(\"Method C\")\n"
   ]
  },
  {
   "cell_type": "code",
   "execution_count": null,
   "id": "334cb0de",
   "metadata": {},
   "outputs": [],
   "source": [
    "MULTILEVEL"
   ]
  },
  {
   "cell_type": "code",
   "execution_count": 6,
   "id": "73420eca",
   "metadata": {},
   "outputs": [],
   "source": [
    "class A:\n",
    "    def methodA(self):\n",
    "        print(\"Method A\")\n",
    "\n",
    "class B(A):\n",
    "    def methodB(self):\n",
    "        print(\"Method B\")\n",
    "\n",
    "class C(B):\n",
    "    def methodC(self):\n",
    "        print(\"Method C\")\n"
   ]
  },
  {
   "cell_type": "code",
   "execution_count": null,
   "id": "b12bb068",
   "metadata": {},
   "outputs": [],
   "source": []
  }
 ],
 "metadata": {
  "kernelspec": {
   "display_name": "Python 3 (ipykernel)",
   "language": "python",
   "name": "python3"
  },
  "language_info": {
   "codemirror_mode": {
    "name": "ipython",
    "version": 3
   },
   "file_extension": ".py",
   "mimetype": "text/x-python",
   "name": "python",
   "nbconvert_exporter": "python",
   "pygments_lexer": "ipython3",
   "version": "3.11.5"
  }
 },
 "nbformat": 4,
 "nbformat_minor": 5
}
