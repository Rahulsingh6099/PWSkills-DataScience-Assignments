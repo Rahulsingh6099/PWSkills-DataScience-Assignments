{
 "cells": [
  {
   "cell_type": "code",
   "execution_count": null,
   "id": "17a942d1",
   "metadata": {},
   "outputs": [],
   "source": [
    "Q1. Explain GET and POST methods.\n",
    "GET Method:\n",
    "\n",
    "Purpose: Retrieves data from the server.\n",
    "Parameters: Appends data to the URL.\n",
    "Security: Less secure as data is visible in the URL.\n",
    "Cache: Can be cached.\n",
    "Idempotent: Yes (multiple identical requests have the same effect).\n",
    "POST Method:\n",
    "\n",
    "Purpose: Submits data to be processed to a specified resource.\n",
    "Parameters: Sends data in the request body.\n",
    "Security: More secure as data is not visible in the URL.\n",
    "Cache: Not cacheable.\n",
    "Idempotent: No (multiple identical requests may have different effects)."
   ]
  },
  {
   "cell_type": "raw",
   "id": "2594c29d",
   "metadata": {},
   "source": [
    "Q2. Why is request used in Flask?\n",
    "\n",
    "\n",
    "In Flask, the request object is used to access incoming request data, such as form data, query parameters, and files uploaded in the request. It provides a way to interact with the data sent by the client to the server."
   ]
  },
  {
   "cell_type": "code",
   "execution_count": null,
   "id": "2d04a843",
   "metadata": {},
   "outputs": [],
   "source": [
    "from flask import Flask, request\n",
    "\n",
    "app = Flask(__name__)\n",
    "\n",
    "@app.route('/login', methods=['POST', 'GET'])\n",
    "def login():\n",
    "    if request.method == 'POST':\n",
    "        username = request.form['username']\n",
    "        password = request.form['password']\n",
    "        # Process the login data\n",
    "        return f'Login successful, Welcome {username}'\n",
    "    else:\n",
    "        return 'Login Page'\n"
   ]
  },
  {
   "cell_type": "markdown",
   "id": "c1ba598c",
   "metadata": {},
   "source": [
    "Q3. Why is redirect() used in Flask?\n",
    "\n",
    "The redirect() function in Flask is used to redirect the user to a different endpoint or URL. It is commonly used after processing a form submission to redirect the user to another page. This helps in following the Post/Redirect/Get (PRG) pattern, reducing the possibility of form resubmission on browser refresh."
   ]
  },
  {
   "cell_type": "code",
   "execution_count": null,
   "id": "413dfb06",
   "metadata": {},
   "outputs": [],
   "source": [
    "from flask import Flask, redirect, url_for\n",
    "\n",
    "app = Flask(__name__)\n",
    "\n",
    "@app.route('/home')\n",
    "def home():\n",
    "    return 'Home Page'\n",
    "\n",
    "@app.route('/redirect_example')\n",
    "def redirect_example():\n",
    "    # Redirect to the home page\n",
    "    return redirect(url_for('home'))\n"
   ]
  },
  {
   "cell_type": "markdown",
   "id": "b8117f47",
   "metadata": {},
   "source": [
    "Q4. What are templates in Flask? Why is the render_template() function used?\n",
    "Templates in Flask:\n",
    "Templates in Flask refer to HTML files that contain placeholders for dynamic content. These templates are rendered to generate dynamic web pages. Flask uses the Jinja2 template engine for rendering templates.\n",
    "\n",
    "render_template() Function:\n",
    "The render_template() function is used to render HTML templates in Flask. It takes the name of the template file and any variables that need to be passed to the template. This function simplifies the process of generating dynamic content by allowing the integration of Python code with HTML templates."
   ]
  },
  {
   "cell_type": "code",
   "execution_count": null,
   "id": "8c72225d",
   "metadata": {},
   "outputs": [],
   "source": [
    "from flask import Flask, render_template\n",
    "\n",
    "app = Flask(__name__)\n",
    "\n",
    "@app.route('/user/<username>')\n",
    "def user_profile(username):\n",
    "    # Pass username to the template\n",
    "    return render_template('profile.html', username=username)\n"
   ]
  },
  {
   "cell_type": "code",
   "execution_count": null,
   "id": "755d20c7",
   "metadata": {},
   "outputs": [],
   "source": [
    "Q5. Create a simple API. Use Postman to test it. Attach the screenshot of the output in the Jupyter Notebook"
   ]
  },
  {
   "cell_type": "code",
   "execution_count": null,
   "id": "81c836a5",
   "metadata": {},
   "outputs": [],
   "source": [
    "from flask import Flask, jsonify\n",
    "\n",
    "app = Flask(__name__)\n",
    "\n",
    "@app.route('/api/greet', methods=['GET'])\n",
    "def greet():\n",
    "    return jsonify({'message': 'Hello, welcome to the API!'})\n",
    "\n",
    "if __name__ == '__main__':\n",
    "    app.run(debug=True)\n"
   ]
  }
 ],
 "metadata": {
  "kernelspec": {
   "display_name": "Python 3 (ipykernel)",
   "language": "python",
   "name": "python3"
  },
  "language_info": {
   "codemirror_mode": {
    "name": "ipython",
    "version": 3
   },
   "file_extension": ".py",
   "mimetype": "text/x-python",
   "name": "python",
   "nbconvert_exporter": "python",
   "pygments_lexer": "ipython3",
   "version": "3.11.5"
  }
 },
 "nbformat": 4,
 "nbformat_minor": 5
}
