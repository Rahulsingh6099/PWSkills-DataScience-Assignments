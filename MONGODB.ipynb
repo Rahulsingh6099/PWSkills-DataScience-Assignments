{
 "cells": [
  {
   "cell_type": "code",
   "execution_count": null,
   "id": "366b4242",
   "metadata": {},
   "outputs": [],
   "source": [
    "Q1. What is MongoDB? Explain non-relational databases in short. In which scenarios it is preferred to use\n",
    "MongoDB over SQL databases?\n",
    "Q2. State and Explain the features of MongoDB.\n",
    "Q3. Write a code to connect MongoDB to Python. Also, create a database and a collection in MongoDB.\n",
    "Q4. Using the database and the collection created in question number 3, write a code to insert one record,\n",
    "and insert many records. Use the find() and find_one() methods to print the inserted record.\n",
    "Q5. Explain how you can use the find() method to query the MongoDB database. Write a simple code to\n",
    "demonstrate this.\n",
    "Q6. Explain the sort() method. Give an example to demonstrate sorting in MongoDB.\n",
    "Q7. Explain why delete_one(), delete_many(), and drop() is used."
   ]
  },
  {
   "cell_type": "raw",
   "id": "35f25890",
   "metadata": {},
   "source": [
    "Q1. What is MongoDB? Explain non-relational databases in short. In which scenarios is it preferred to use MongoDB over SQL databases?"
   ]
  },
  {
   "cell_type": "markdown",
   "id": "ad3dcac3",
   "metadata": {},
   "source": [
    "MongoDB:\n",
    "MongoDB is a cross-platform, document-oriented database that provides high performance, high availability, and easy scalability. It uses a flexible, schema-free document model, which allows for easy storage and retrieval of complex data.\n",
    "\n",
    "Non-Relational Databases:\n",
    "Non-relational databases, or NoSQL databases, are databases that use a data model other than the traditional relational model used by SQL databases. They are designed to handle large sets of distributed and unstructured data.\n",
    "\n",
    "Scenarios to Prefer MongoDB over SQL Databases:\n",
    "\n",
    "When dealing with large amounts of unstructured or semi-structured data.\n",
    "In scenarios where horizontal scaling is a requirement, as MongoDB is designed for horizontal scalability.\n",
    "For rapid development and iteration, as MongoDB's flexible schema allows for quick changes."
   ]
  },
  {
   "cell_type": "code",
   "execution_count": null,
   "id": "1ee8d342",
   "metadata": {},
   "outputs": [],
   "source": [
    "Q2. State and Explain the features of MongoDB."
   ]
  },
  {
   "cell_type": "code",
   "execution_count": null,
   "id": "519e61f8",
   "metadata": {},
   "outputs": [],
   "source": [
    "Features of MongoDB:\n",
    "\n",
    "Document-Oriented:\n",
    "\n",
    "Data is stored in flexible, JSON-like BSON documents.\n",
    "Documents can have nested structures, arrays, and other complex data types.\n",
    "High Performance:\n",
    "\n",
    "MongoDB provides high performance for both read and write operations.\n",
    "Scalability:\n",
    "\n",
    "MongoDB scales horizontally by sharding data across multiple servers.\n",
    "Indexing:\n",
    "\n",
    "Supports indexing for efficient querying and sorting of data.\n",
    "Aggregation Framework:\n",
    "\n",
    "Provides an aggregation framework for data transformation and analysis.\n",
    "Schema Flexibility:\n",
    "\n",
    "Allows dynamic and flexible schema design, making it easy to evolve data models.\n",
    "Document Validation:\n",
    "\n",
    "Supports document validation to enforce data integrity."
   ]
  },
  {
   "cell_type": "code",
   "execution_count": null,
   "id": "3d677183",
   "metadata": {},
   "outputs": [],
   "source": [
    "Q3. Write a code to connect MongoDB to Python. Also, create a database and a collection in MongoDB."
   ]
  },
  {
   "cell_type": "code",
   "execution_count": null,
   "id": "ac5e3319",
   "metadata": {},
   "outputs": [],
   "source": [
    "import pymongo\n",
    "\n",
    "# Connect to MongoDB\n",
    "client = pymongo.MongoClient(\"mongodb://localhost:27017/\")\n",
    "\n",
    "# Create a database\n",
    "mydb = client[\"mydatabase\"]\n",
    "\n",
    "# Create a collection\n",
    "mycollection = mydb[\"mycollection\"]\n"
   ]
  },
  {
   "cell_type": "markdown",
   "id": "96bd6ba8",
   "metadata": {},
   "source": [
    "Q4. Using the database and the collection created in question number 3, write a code to insert one record, and insert many records. Use the find() and find_one() methods to print the inserted record."
   ]
  },
  {
   "cell_type": "code",
   "execution_count": null,
   "id": "e4cc61fa",
   "metadata": {},
   "outputs": [],
   "source": [
    "# Insert one record\n",
    "record_one = {\"name\": \"John\", \"age\": 30, \"city\": \"New York\"}\n",
    "inserted_one = mycollection.insert_one(record_one)\n",
    "\n",
    "# Insert many records\n",
    "records_many = [\n",
    "    {\"name\": \"Alice\", \"age\": 25, \"city\": \"London\"},\n",
    "    {\"name\": \"Bob\", \"age\": 35, \"city\": \"Paris\"}\n",
    "]\n",
    "inserted_many = mycollection.insert_many(records_many)\n",
    "\n",
    "# Print the inserted record using find_one\n",
    "print(\"Inserted One Record:\", mycollection.find_one({\"name\": \"John\"}))\n",
    "\n",
    "# Print all inserted records using find\n",
    "print(\"Inserted Many Records:\")\n",
    "for record in mycollection.find():\n",
    "    print(record)\n"
   ]
  },
  {
   "cell_type": "code",
   "execution_count": null,
   "id": "2debcb7e",
   "metadata": {},
   "outputs": [],
   "source": [
    "Q5. Explain how you can use the find() method to query the MongoDB database. Write a simple code to demonstrate this."
   ]
  },
  {
   "cell_type": "code",
   "execution_count": null,
   "id": "32a33b8a",
   "metadata": {},
   "outputs": [],
   "source": [
    "# Query MongoDB using find method\n",
    "result = mycollection.find({\"city\": \"New York\"})\n",
    "\n",
    "# Print the query result\n",
    "print(\"Query Result:\")\n",
    "for record in result:\n",
    "    print(record)\n"
   ]
  },
  {
   "cell_type": "code",
   "execution_count": null,
   "id": "14d97a7f",
   "metadata": {},
   "outputs": [],
   "source": [
    "Q6. Explain the sort() method. Give an example to demonstrate sorting in MongoDB."
   ]
  },
  {
   "cell_type": "code",
   "execution_count": null,
   "id": "45519681",
   "metadata": {},
   "outputs": [],
   "source": [
    "# Sort documents by age in ascending order\n",
    "result = mycollection.find().sort(\"age\")\n",
    "\n",
    "# Print the sorted result\n",
    "print(\"Sorted Result (Ascending Order):\")\n",
    "for record in result:\n",
    "    print(record)\n"
   ]
  },
  {
   "cell_type": "code",
   "execution_count": null,
   "id": "70755e12",
   "metadata": {},
   "outputs": [],
   "source": [
    "mycollection.delete_one({\"name\": \"John\"})\n"
   ]
  },
  {
   "cell_type": "code",
   "execution_count": null,
   "id": "f62c11fa",
   "metadata": {},
   "outputs": [],
   "source": [
    "mycollection.delete_many({\"city\": \"Paris\"})\n"
   ]
  },
  {
   "cell_type": "code",
   "execution_count": null,
   "id": "eacd93be",
   "metadata": {},
   "outputs": [],
   "source": [
    "mycollection.drop()\n"
   ]
  }
 ],
 "metadata": {
  "kernelspec": {
   "display_name": "Python 3 (ipykernel)",
   "language": "python",
   "name": "python3"
  },
  "language_info": {
   "codemirror_mode": {
    "name": "ipython",
    "version": 3
   },
   "file_extension": ".py",
   "mimetype": "text/x-python",
   "name": "python",
   "nbconvert_exporter": "python",
   "pygments_lexer": "ipython3",
   "version": "3.11.5"
  }
 },
 "nbformat": 4,
 "nbformat_minor": 5
}
